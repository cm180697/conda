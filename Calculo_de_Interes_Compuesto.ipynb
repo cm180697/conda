{
  "nbformat": 4,
  "nbformat_minor": 0,
  "metadata": {
    "colab": {
      "provenance": [],
      "authorship_tag": "ABX9TyPohPSn483AJwn4XeDthcUl",
      "include_colab_link": true
    },
    "kernelspec": {
      "name": "python3",
      "display_name": "Python 3"
    },
    "language_info": {
      "name": "python"
    }
  },
  "cells": [
    {
      "cell_type": "markdown",
      "metadata": {
        "id": "view-in-github",
        "colab_type": "text"
      },
      "source": [
        "<a href=\"https://colab.research.google.com/github/cm180697/conda/blob/master/Calculo_de_Interes_Compuesto.ipynb\" target=\"_parent\"><img src=\"https://colab.research.google.com/assets/colab-badge.svg\" alt=\"Open In Colab\"/></a>"
      ]
    },
    {
      "cell_type": "code",
      "source": [
        "'''\n",
        "Estudiante: Camilo Andrés Mateus Ortigoza\n",
        "Actividad: Cálculo de tasas de interés y cálculo de valor de dinero a futuro.\n",
        "\n",
        "El código calcula una tabla de factores de interés compuesto y luego permite a los usuarios ingresar la cantidad de dinero\n",
        "que desean invertir, la tasa de interés y el número de años para calcular el valor futuro de su inversión. El programa \n",
        "consta de dos funciones: una función que calcula el factor de interés compuesto y una función main que ejecuta el programa.\n",
        "La función factor_interes_compuesto toma dos parámetros: i, que representa la tasa de interés anual expresada como \n",
        "porcentaje, y n, que representa el número de años. El factor de interés compuesto se calcula como (1 + (i / 100)) \n",
        "elevado a la potencia n. La función devuelve el factor de interés compuesto calculado.\n",
        "\n",
        "La función main es la función principal que ejecuta el programa. La función primero lee el número máximo de años, la tasa\n",
        "de interés inicial y el número máximo de tasas de interés a través de la entrada del usuario. Luego, la función imprime la\n",
        "cabecera de la tabla y las filas de la tabla que muestran el factor de interés compuesto para cada combinación de años y \n",
        "tasas de interés. Luego, la función lee la cantidad de dinero que cada persona desea invertir, el número de años para la \n",
        "inversión y la tasa de interés a la cual invertirán. La función verifica si la tasa de interés y el número de años se \n",
        "encuentran en la tabla generada anteriormente. Si la combinación de tasa de interés y número de años se encuentra en la\n",
        "tabla, el programa utiliza el factor de interés compuesto correspondiente de la tabla para calcular el valor futuro de\n",
        "la inversión. De lo contrario, el programa calcula el factor de interés compuesto utilizando la función fic. Finalmente,\n",
        "la función main imprime el valor futuro de la inversión de cada persona y también muestra el número total de personas que\n",
        "solicitaron el servicio y la cantidad total de dinero que se desea invertir.\n",
        "'''\n",
        "\n",
        "\n",
        "def factor_interes_compuesto(tasa_interes, num_anios):\n",
        "    \"\"\"\n",
        "    Calcula el factor de interés compuesto.\n",
        "\n",
        "    :param tasa_interes: tasa de interés\n",
        "    :param num_anios: número de años\n",
        "    :return: factor de interés compuesto\n",
        "    \"\"\"\n",
        "    return (1 + (tasa_interes / 100))**num_anios\n",
        "\n",
        "\n",
        "def main():\n",
        "    # Leer el número máximo de años\n",
        "    max_anios = int(input(\"Ingrese el número máximo de años: \"))\n",
        "    # Leer la tasa de interés inicial\n",
        "    tasa_inicial = float(input(\"Ingrese la tasa de interés inicial: \"))\n",
        "    # Leer el número máximo de tasas de interés\n",
        "    max_tasas = int(input(\"Ingrese el número máximo de tasas de interés: \"))\n",
        "\n",
        "    # Crear la tabla de factores de interés compuesto\n",
        "    tabla_interes_compuesto = []\n",
        "    for n in range(1, max_anios + 1):\n",
        "        fila = []\n",
        "        for i in range(max_tasas):\n",
        "            fila.append(factor_interes_compuesto(tasa_inicial + i * 0.5, n))\n",
        "        tabla_interes_compuesto.append(fila)\n",
        "\n",
        "    # Imprimir la cabecera de la tabla\n",
        "    print(\"Años \\\\ Tasas de Interés\", end=\"\\t\")\n",
        "    for i in range(max_tasas):\n",
        "        print(\"{:.1f}\".format(tasa_inicial + i * 0.5), end=\"\\t\")\n",
        "    print()\n",
        "    print(\"-\" * (10 + max_tasas * 10))\n",
        "\n",
        "    # Imprimir cada fila de la tabla\n",
        "    for n in range(1, max_anios + 1):\n",
        "        print(\"{:<10d}\".format(n), end=\"\\t\")\n",
        "        for i in range(max_tasas):\n",
        "            print(\"{:.6f}\".format(tabla_interes_compuesto[n - 1][i]), end=\"\\t\")\n",
        "        print()\n",
        "\n",
        "    # Variables para almacenar la cantidad de personas que solicitaron el servicio y la cantidad total de dinero invertido\n",
        "    num_personas = 0\n",
        "    inversion_total = 0\n",
        "\n",
        "    # Bucle para leer los datos de cada persona que desea invertir\n",
        "    while True:\n",
        "        inversion = float(input(\"Persona \" + str(num_personas+1) +\" -> Ingrese la cantidad de dinero actual a invertir (0 para terminar e ir a total): \"))\n",
        "        if inversion == 0:\n",
        "            break\n",
        "        anios = int(input(\"Ingrese el número de años a futuro: \"))\n",
        "        tasa = float(input(\"Ingrese la tasa de interés: \"))\n",
        "    \n",
        "        # Verificar si la tasa de interés y el número de años se encuentran en la tabla\n",
        "        encontrada = False\n",
        "        for i in range(max_tasas):\n",
        "            if tasa == tasa_inicial + i * 0.5:\n",
        "                for j in range(1, max_anios + 1):\n",
        "                    if anios == j:\n",
        "                        encontrada = True\n",
        "                        break\n",
        "        # Calcular el valor futuro con la tabla o sin ella\n",
        "        if encontrada:\n",
        "            valor_futuro = inversion * tabla_interes_compuesto[anios - 1][int((tasa - tasa_inicial) / 0.5)]\n",
        "        else:\n",
        "            valor_futuro = inversion * factor_interes_compuesto(tasa, anios)\n",
        "    \n",
        "        print(\"El valor futuro es: {:.2f}\".format(valor_futuro))\n",
        "        num_personas += 1\n",
        "        inversion_total += inversion\n",
        "\n",
        "    print(\"Se solicitaron el servicio {} personas y se desean invertir un total de {:.2f}\".format(num_personas, inversion_total))\n",
        "\n",
        "\n",
        "if __name__ == \"__main__\":\n",
        "    main()"
      ],
      "metadata": {
        "colab": {
          "base_uri": "https://localhost:8080/"
        },
        "id": "etDhr0fxKPxu",
        "outputId": "461a827c-03e4-4976-aecd-29d82286ea7b"
      },
      "execution_count": 23,
      "outputs": [
        {
          "output_type": "stream",
          "name": "stdout",
          "text": [
            "Ingrese el número máximo de años: 5\n",
            "Ingrese la tasa de interés inicial: 5\n",
            "Ingrese el número máximo de tasas de interés: 5\n",
            "Años \\ Tasas de Interés\t5.0\t5.5\t6.0\t6.5\t7.0\t\n",
            "------------------------------------------------------------\n",
            "1         \t1.050000\t1.055000\t1.060000\t1.065000\t1.070000\t\n",
            "2         \t1.102500\t1.113025\t1.123600\t1.134225\t1.144900\t\n",
            "3         \t1.157625\t1.174241\t1.191016\t1.207950\t1.225043\t\n",
            "4         \t1.215506\t1.238825\t1.262477\t1.286466\t1.310796\t\n",
            "5         \t1.276282\t1.306960\t1.338226\t1.370087\t1.402552\t\n",
            "Persona 1 -> Ingrese la cantidad de dinero actual a invertir (0 para terminar e ir a total): 0\n",
            "Se solicitaron el servicio 0 personas y se desean invertir un total de 0.00\n"
          ]
        }
      ]
    },
    {
      "cell_type": "code",
      "source": [
        "5"
      ],
      "metadata": {
        "id": "Q3-Y-tgRxadz"
      },
      "execution_count": null,
      "outputs": []
    }
  ]
}