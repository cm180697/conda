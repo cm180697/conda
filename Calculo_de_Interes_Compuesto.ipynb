{
  "nbformat": 4,
  "nbformat_minor": 0,
  "metadata": {
    "colab": {
      "provenance": [],
      "authorship_tag": "ABX9TyNcADvJrl8Tw9EewkNX+8fp",
      "include_colab_link": true
    },
    "kernelspec": {
      "name": "python3",
      "display_name": "Python 3"
    },
    "language_info": {
      "name": "python"
    }
  },
  "cells": [
    {
      "cell_type": "markdown",
      "metadata": {
        "id": "view-in-github",
        "colab_type": "text"
      },
      "source": [
        "<a href=\"https://colab.research.google.com/github/cm180697/conda/blob/master/Calculo_de_Interes_Compuesto.ipynb\" target=\"_parent\"><img src=\"https://colab.research.google.com/assets/colab-badge.svg\" alt=\"Open In Colab\"/></a>"
      ]
    },
    {
      "cell_type": "code",
      "source": [
        "def fic(i, n):\n",
        "    \"\"\"\n",
        "    Calcula el factor de interés compuesto.\n",
        "    \n",
        "    :param i: tasa de interés\n",
        "    :param n: número de años\n",
        "    :return: factor de interés compuesto\n",
        "    \"\"\"\n",
        "    return (1 + (i / 100))**n\n",
        "\n",
        "def main():\n",
        "    # Leer el número máximo de años\n",
        "    max_years = int(input(\"Ingrese el número máximo de años: \"))\n",
        "    # Leer la tasa de interés inicial\n",
        "    init_rate = float(input(\"Ingrese la tasa de interés inicial: \"))\n",
        "    # Leer el número máximo de tasas de interés\n",
        "    max_rates = int(input(\"Ingrese el número máximo de tasas de interés: \"))\n",
        "\n",
        "    # Imprimir la cabecera de la tabla\n",
        "    print(\"Años \\\\ Tasas de Interés\", end=\"\\t\")\n",
        "    for i in range(max_rates):\n",
        "        print(\"{:.1f}\".format(init_rate + i * 0.5), end=\"\\t\")\n",
        "    print()\n",
        "    print(\"-\" * (10 + max_rates * 10))\n",
        "\n",
        "    # Imprimir cada fila de la tabla\n",
        "    for n in range(1, max_years + 1):\n",
        "        print(\"{:<10d}\".format(n), end=\"\\t\")\n",
        "        for i in range(max_rates):\n",
        "            print(\"{:.6f}\".format(fic(init_rate + i * 0.5, n)), end=\"\\t\")\n",
        "        print()\n",
        "\n",
        "    # Variables para almacenar la cantidad de personas que solicitaron el servicio y la cantidad total de dinero invertido\n",
        "    num_people = 0\n",
        "    total_investment = 0\n",
        "    \n",
        "    # Bucle para leer los datos de cada persona que desea invertir\n",
        "    while True:\n",
        "        investment = float(input(\"Persona \" +str(num_people+1) +\" -> Ingrese la cantidad de dinero actual a invertir (0 para terminar e ir a total): \"))\n",
        "        if investment == 0:\n",
        "            break\n",
        "        years = int(input(\"Ingrese el número de años a futuro: \"))\n",
        "        rate = float(input(\"Ingrese la tasa de interés: \"))\n",
        "\n",
        "        # Verificar si la tasa de interés y el número de años se encuentran en la tabla\n",
        "        found = False\n",
        "        for i in range(max_rates):\n",
        "            if rate == init_rate + i * 0.5:\n",
        "                found = True\n",
        "                break\n",
        "        # Calcular el valor futuro con la tabla o sin ella\n",
        "        if found and years <= max_years:\n",
        "            future_value = investment * fic(rate, years)\n",
        "        else:\n",
        "            future_value = investment * fic(rate, years)\n",
        "\n",
        "        print(\"El valor futuro es: {:.2f}\".format(future_value))\n",
        "        num_people += 1\n",
        "        total_investment += investment\n",
        "\n",
        "    print(\"Se solicitaron el servicio {} personas y se desean invertir un total de {:.2f}\".format(num_people, total_investment))\n",
        "\n",
        "if __name__ == \"__main__\":\n",
        "    main()"
      ],
      "metadata": {
        "colab": {
          "base_uri": "https://localhost:8080/"
        },
        "id": "etDhr0fxKPxu",
        "outputId": "9eb1e584-c1e5-4716-bc1c-af74560a498d"
      },
      "execution_count": 20,
      "outputs": [
        {
          "output_type": "stream",
          "name": "stdout",
          "text": [
            "Ingrese el número máximo de años: 5\n",
            "Ingrese la tasa de interés inicial: 5\n",
            "Ingrese el número máximo de tasas de interés: 5\n",
            "Años \\ Tasas de Interés\t5.0\t5.5\t6.0\t6.5\t7.0\t\n",
            "------------------------------------------------------------\n",
            "1         \t1.050000\t1.055000\t1.060000\t1.065000\t1.070000\t\n",
            "2         \t1.102500\t1.113025\t1.123600\t1.134225\t1.144900\t\n",
            "3         \t1.157625\t1.174241\t1.191016\t1.207950\t1.225043\t\n",
            "4         \t1.215506\t1.238825\t1.262477\t1.286466\t1.310796\t\n",
            "5         \t1.276282\t1.306960\t1.338226\t1.370087\t1.402552\t\n",
            "Persona 1 -> Ingrese la cantidad de dinero actual a invertir (0 para terminar e ir a total): 5\n",
            "Ingrese el número de años a futuro: 5\n",
            "Ingrese la tasa de interés: 5\n",
            "El valor futuro es: 6.38\n",
            "Persona 2 -> Ingrese la cantidad de dinero actual a invertir (0 para terminar e ir a total): 0\n",
            "Se solicitaron el servicio 1 personas y se desean invertir un total de 5.00\n"
          ]
        }
      ]
    }
  ]
}